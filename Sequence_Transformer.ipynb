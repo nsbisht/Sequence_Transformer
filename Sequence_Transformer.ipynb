{
 "cells": [
  {
   "cell_type": "markdown",
   "metadata": {},
   "source": [
    "## Sequence Transformer"
   ]
  },
  {
   "cell_type": "markdown",
   "metadata": {},
   "source": [
    "**You start with the sequence ABABAECCEC, or in general any sequence made from A,B, C, and E.** \n",
    "\n",
    "**You can transform this sequence using the following equalities: AC = E,AB = BC, BB = E, CC = E, and E x = x for any x.** \n",
    "\n",
    "**Your goal is to produce the sequence E.**\n",
    "\n",
    "**For example, ABBC can be transformed into AEC, and then AC, and then E.**"
   ]
  },
  {
   "cell_type": "code",
   "execution_count": 1,
   "metadata": {},
   "outputs": [],
   "source": [
    "import ipywidgets as widgets\n",
    "from IPython.display import clear_output"
   ]
  },
  {
   "cell_type": "code",
   "execution_count": 2,
   "metadata": {},
   "outputs": [],
   "source": [
    "input = widgets.Text(description=\"Sequence\")"
   ]
  },
  {
   "cell_type": "code",
   "execution_count": 3,
   "metadata": {},
   "outputs": [],
   "source": [
    "class Priority_Queue:\n",
    "    \n",
    "    def __init__(self):\n",
    "        self.queue = []\n",
    "    \n",
    "    def enqueue(self, node):\n",
    "        self.queue.append(node)\n",
    "        \n",
    "    def dequeue(self):\n",
    "        if not self.empty():\n",
    "            max_priority_idx = 0\n",
    "            for i in range(len(self.queue)): \n",
    "                if self.queue[i].priority > self.queue[max_priority_idx].priority : \n",
    "                    max_priority_idx = i \n",
    "            item = self.queue[max_priority_idx] \n",
    "            del self.queue[max_priority_idx] \n",
    "            return item \n",
    "        else:\n",
    "            raise Exception(\"Priority_Queue Empty!\")\n",
    "            \n",
    "    def empty(self):\n",
    "        return len(self.queue) == 0\n",
    "    \n",
    "    def contains_state(self, state):\n",
    "        return any(node.state == state for node in self.queue)\n",
    "    \n",
    "    def __str__(self):\n",
    "        result = f\"Number of items in queue = {len(self.queue)}\\n\"\n",
    "        for item in self.queue:\n",
    "            result += f\"{item}\\n\"\n",
    "        return result    "
   ]
  },
  {
   "cell_type": "code",
   "execution_count": 4,
   "metadata": {},
   "outputs": [],
   "source": [
    "class Node:\n",
    "    def __init__(self, state, parent, action, depth, priority=0):\n",
    "        self.state = state\n",
    "        self.parent = parent\n",
    "        self.action = action\n",
    "        self.depth = depth\n",
    "        self.priority = priority\n",
    "    \n",
    "    def repeated_state(self):\n",
    "        if self.parent == None or self.parent.parent == None: \n",
    "            return False\n",
    "        if self.parent.parent.state.equals(self.state): \n",
    "            return True\n",
    "        return False\n",
    "    \n",
    "    def __str__(self):\n",
    "        result = f\"{self.state}\"\n",
    "        result += f\" {self.depth}\"\n",
    "        result += f\" {self.priority}\"\n",
    "        if self.parent != None:\n",
    "            result += f\" {self.parent.state}\"\n",
    "            result += f\" {self.action}\"\n",
    "        return result  "
   ]
  },
  {
   "cell_type": "code",
   "execution_count": 5,
   "metadata": {},
   "outputs": [],
   "source": [
    "class Search:\n",
    "    \n",
    "    # A* Search\n",
    "    \n",
    "    def __init__(self, start_state, goal_state):\n",
    "\n",
    "        self.start_state = start_state\n",
    "        self.goal_state = goal_state\n",
    "            \n",
    "    def heuristic(self, node):      \n",
    "        \n",
    "        def get_count(sub):\n",
    "            c = seq.count(sub)\n",
    "            if c != -1: return c\n",
    "            return 0\n",
    "        \n",
    "        seq = node[0].sequence\n",
    "        \n",
    "        #Admissible Heuristic\n",
    "        return get_count(\"AC\") + get_count(\"BB\") + get_count(\"CC\")\n",
    "    \n",
    "    def find_solution(self):\n",
    "        \n",
    "        # Initialize fringe\n",
    "        start_node = Node(self.start_state, None, None, 0)\n",
    "        fringe = Priority_Queue()\n",
    "        fringe.enqueue(start_node)\n",
    "        \n",
    "        # Initialize an empty explored set\n",
    "        self.explored = set()\n",
    "        \n",
    "        while not fringe.empty():\n",
    "            \n",
    "            # Choose a node from the fringe\n",
    "            current_node = fringe.dequeue()\n",
    "            \n",
    "            if not current_node.state.legal():\n",
    "                return None\n",
    "            \n",
    "            # If the chosen node is the goal, then we have a solution\n",
    "            if self.goal_state.equals(current_node.state):\n",
    "                #print(f\"No. of nodes explored = {len(self.explored)}\")\n",
    "                return current_node\n",
    "\n",
    "            # Mark node as explored\n",
    "            self.explored.add(current_node.state)\n",
    "            \n",
    "            # Add possible successors to the fringe\n",
    "            successors = current_node.state.find_successors()\n",
    "            for successor in successors:   \n",
    "                if not fringe.contains_state(successor[0]) and successor[0] not in self.explored:\n",
    "                    n = Node(successor[0],#state\n",
    "                             current_node,\n",
    "                             successor[1],#action\n",
    "                             current_node.depth+1, current_node.depth + 1 + self.heuristic(successor))\n",
    "                    if n.repeated_state():\n",
    "                        del(n)\n",
    "                    else:\n",
    "                        fringe.enqueue(n)\n",
    "            #print(fringe)\n",
    "        return None\n",
    "    \n",
    "    def build_path(self, node):\n",
    "        result = []\n",
    "        while node:\n",
    "            result.insert(0, node)\n",
    "            node = node.parent\n",
    "        return result\n",
    "    \n",
    "    def show_path(self, node):\n",
    "        path = self.build_path(node)        \n",
    "        for current_node in path:\n",
    "            if current_node.action:\n",
    "                print(current_node.action)\n",
    "            print(current_node.state)\n",
    "        print(f\"Number of steps = {current_node.depth}\")\n",
    "    \n",
    "    def solve(self):\n",
    "        solution = self.find_solution()\n",
    "        if solution == None:\n",
    "            print(\"Search failed\")\n",
    "        else:\n",
    "            print(\"Search completed successfully!\")\n",
    "            self.show_path(solution)"
   ]
  },
  {
   "cell_type": "code",
   "execution_count": 6,
   "metadata": {},
   "outputs": [],
   "source": [
    "def replace_nth(s, old, new, n):\n",
    "    count = 0\n",
    "\n",
    "    find = s.find(old)\n",
    "    if find != -1: count += 1\n",
    "        \n",
    "    while count != n and find != -1:\n",
    "        find = s.find(old, find + 1)\n",
    "        if find != -1: count += 1\n",
    "            \n",
    "    if count == n:\n",
    "        return s[:find] + new + s[find + len(old):]"
   ]
  },
  {
   "cell_type": "code",
   "execution_count": 7,
   "metadata": {},
   "outputs": [],
   "source": [
    "class Sequence_State:\n",
    "\n",
    "    def __init__(self, sequence):\n",
    "        self.sequence = sequence\n",
    "       \n",
    "    def __str__(self):    \n",
    "        return self.sequence\n",
    "    \n",
    "    def equals(self, state):\n",
    "        return (self.sequence == state.sequence)\n",
    "    \n",
    "    def legal(self):\n",
    "        allowed = {'A', 'B', 'C', 'E'}\n",
    "        current = set(self.sequence)\n",
    "        if current.issubset(allowed):\n",
    "            return True\n",
    "        return False\n",
    "    \n",
    "    def apply_helper(self, successors, old, new, op):\n",
    "        number_of_occurrences = self.sequence.count(old)\n",
    "        count = 1\n",
    "        while(count <= number_of_occurrences) :\n",
    "            s = Sequence_State(replace_nth(self.sequence, old, new, count))\n",
    "            if s.sequence != None: successors.append((s, op))\n",
    "            count += 1\n",
    "        \n",
    "    \n",
    "    # There are five possible transformations:\n",
    "    # 1. AC = E\n",
    "    def apply_AC_E(self, successors):\n",
    "        self.apply_helper(successors, \"AC\", \"E\", \"AC = E\")\n",
    "    \n",
    "    # 2. AB = BC\n",
    "    def apply_AB_BC(self, successors):\n",
    "        self.apply_helper(successors, \"AB\", \"BC\", \"AB = BC\")\n",
    "    \n",
    "    # 3. BB = E\n",
    "    def apply_BB_E(self, successors):\n",
    "        self.apply_helper(successors, \"BB\", \"E\", \"BB = E\")\n",
    "    \n",
    "    # 4. CC = E\n",
    "    def apply_CC_E(self, successors):\n",
    "        self.apply_helper(successors, \"CC\", \"E\", \"CC = E\")\n",
    "    \n",
    "    # 5. Ex = x for any x\n",
    "    def apply_Ex_x(self, successors):\n",
    "        self.apply_helper(successors, \"EA\", \"A\", \"Ex = x (EA = A)\")\n",
    "        self.apply_helper(successors, \"EB\", \"B\", \"Ex = x (EB = B)\")\n",
    "        self.apply_helper(successors, \"EC\", \"C\", \"Ex = x (EC = C)\")\n",
    "        self.apply_helper(successors, \"EE\", \"E\", \"Ex = x (EE = E)\")\n",
    "     \n",
    "    def find_successors(self):\n",
    "        successors = []\n",
    "        self.apply_AC_E(successors)\n",
    "        self.apply_AB_BC(successors)\n",
    "        self.apply_BB_E(successors)\n",
    "        self.apply_CC_E(successors)\n",
    "        self.apply_Ex_x(successors)\n",
    "        return successors"
   ]
  },
  {
   "cell_type": "code",
   "execution_count": 8,
   "metadata": {},
   "outputs": [],
   "source": [
    "button_search = widgets.Button(description=\"Search\")\n",
    "\n",
    "def on_button_search_clicked(b):\n",
    "        with output:\n",
    "            clear_output(True)\n",
    "            s = Search(Sequence_State(input.value), Sequence_State(\"E\"))\n",
    "            s.solve()\n",
    "\n",
    "button_search.on_click(on_button_search_clicked)"
   ]
  },
  {
   "cell_type": "code",
   "execution_count": 9,
   "metadata": {},
   "outputs": [],
   "source": [
    "# Test Cases\n",
    "# ABBC\n",
    "# ABABAECCEC\n",
    "# ABBCX\n",
    "# ABABAECCECABBC\n",
    "# ABABAECCECABABAECCEC\n",
    "# ABABAECCECABABAECCECABABAECCECABABAECCEC"
   ]
  },
  {
   "cell_type": "code",
   "execution_count": 10,
   "metadata": {},
   "outputs": [
    {
     "data": {
      "application/vnd.jupyter.widget-view+json": {
       "model_id": "b5f80985adef422a8f8391fb199f5e00",
       "version_major": 2,
       "version_minor": 0
      },
      "text/plain": [
       "Text(value='', description='Sequence')"
      ]
     },
     "metadata": {},
     "output_type": "display_data"
    }
   ],
   "source": [
    "display(input)"
   ]
  },
  {
   "cell_type": "code",
   "execution_count": 11,
   "metadata": {},
   "outputs": [
    {
     "data": {
      "application/vnd.jupyter.widget-view+json": {
       "model_id": "67bc20507df44269a8ce02df061ba464",
       "version_major": 2,
       "version_minor": 0
      },
      "text/plain": [
       "Button(description='Search', style=ButtonStyle())"
      ]
     },
     "metadata": {},
     "output_type": "display_data"
    }
   ],
   "source": [
    "display(button_search)"
   ]
  },
  {
   "cell_type": "code",
   "execution_count": 12,
   "metadata": {},
   "outputs": [
    {
     "data": {
      "application/vnd.jupyter.widget-view+json": {
       "model_id": "8ff9d4d42f394cf49714b5f4e05bd0b8",
       "version_major": 2,
       "version_minor": 0
      },
      "text/plain": [
       "Output()"
      ]
     },
     "metadata": {},
     "output_type": "display_data"
    }
   ],
   "source": [
    "output = widgets.Output()\n",
    "display(output)"
   ]
  },
  {
   "cell_type": "code",
   "execution_count": null,
   "metadata": {},
   "outputs": [],
   "source": []
  }
 ],
 "metadata": {
  "kernelspec": {
   "display_name": "Python 3",
   "language": "python",
   "name": "python3"
  },
  "language_info": {
   "codemirror_mode": {
    "name": "ipython",
    "version": 3
   },
   "file_extension": ".py",
   "mimetype": "text/x-python",
   "name": "python",
   "nbconvert_exporter": "python",
   "pygments_lexer": "ipython3",
   "version": "3.8.5"
  }
 },
 "nbformat": 4,
 "nbformat_minor": 4
}
